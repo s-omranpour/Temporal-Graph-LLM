{
 "cells": [
  {
   "cell_type": "code",
   "execution_count": 1,
   "id": "f5edf73a-265e-477a-ac96-f5a85bd61183",
   "metadata": {},
   "outputs": [
    {
     "name": "stderr",
     "output_type": "stream",
     "text": [
      "[rank: 0] Seed set to 292\n"
     ]
    },
    {
     "data": {
      "text/plain": [
       "292"
      ]
     },
     "execution_count": 1,
     "metadata": {},
     "output_type": "execute_result"
    }
   ],
   "source": [
    "from tgb.linkproppred.dataset_pyg import PyGLinkPropPredDataset\n",
    "import torch\n",
    "from torch import nn\n",
    "import torch.nn.functional as F\n",
    "from torch.utils.data import DataLoader, Dataset\n",
    "from importlib import reload\n",
    "\n",
    "import ssl\n",
    "ssl._create_default_https_context = ssl._create_stdlib_context\n",
    "\n",
    "\n",
    "import matplotlib.pyplot as plt\n",
    "import lightning as L\n",
    "from lightning.pytorch.loggers import WandbLogger\n",
    "from lightning.pytorch.callbacks import ModelCheckpoint\n",
    "from lightning.pytorch.callbacks.early_stopping import EarlyStopping\n",
    "from lightning.pytorch.tuner import Tuner\n",
    "\n",
    "import random\n",
    "L.seed_everything(random.randint(0, 10000))"
   ]
  },
  {
   "cell_type": "code",
   "execution_count": 2,
   "id": "7123556b-b975-46d1-a075-ed77818cd85d",
   "metadata": {},
   "outputs": [
    {
     "name": "stdout",
     "output_type": "stream",
     "text": [
      "raw file found, skipping download\n",
      "Dataset directory is  /home/mila/s/soroush.omranpour/Projects/my_env/lib/python3.10/site-packages/tgb/datasets/tgbl_wiki\n",
      "loading processed file\n"
     ]
    }
   ],
   "source": [
    "dataset = PyGLinkPropPredDataset(name=\"tgbl-wiki\", root=\"datasets\")"
   ]
  },
  {
   "cell_type": "code",
   "execution_count": 3,
   "id": "304f60e0-a74b-4f83-bdb9-06dabd0b39ed",
   "metadata": {},
   "outputs": [
    {
     "name": "stdout",
     "output_type": "stream",
     "text": [
      "109721 23621 47242\n"
     ]
    }
   ],
   "source": [
    "class TGSeq(Dataset):\n",
    "    def __init__(self, src, dst, ts, max_length=512):\n",
    "        super().__init__()\n",
    "        self.max_length = max_length\n",
    "        \n",
    "        self.src = src + 1\n",
    "        self.dst = dst + 1\n",
    "        self.ts = ts\n",
    "\n",
    "    def __len__(self):\n",
    "        return self.src.shape[0] - self.max_length + 1\n",
    "        \n",
    "\n",
    "    def __getitem__(self, idx):\n",
    "        src = self.src[idx:idx+self.max_length]\n",
    "        dst = self.dst[idx:idx+self.max_length]\n",
    "        ts = self.ts[idx:idx+self.max_length]\n",
    "        seq = torch.stack([torch.zeros_like(src), src, dst]).T.flatten()\n",
    "        x = seq[:-1]\n",
    "        y = seq[1:]\n",
    "        t = torch.stack([torch.zeros_like(ts), ts, ts]).T.flatten()[:-1]\n",
    "        \n",
    "        return x, y, t\n",
    "\n",
    "context_window = 512\n",
    "train_ds = TGSeq(\n",
    "    dataset.src[dataset.train_mask],\n",
    "    dataset.dst[dataset.train_mask],\n",
    "    dataset.ts[dataset.train_mask],\n",
    "    max_length=context_window\n",
    ")\n",
    "\n",
    "val_idx = torch.where(dataset.val_mask)[0]\n",
    "min_id, max_id = val_idx.min(), val_idx.max()\n",
    "val_ds = TGSeq(\n",
    "    dataset.src[min_id - context_window + 1:max_id+1],\n",
    "    dataset.dst[min_id - context_window + 1:max_id+1],\n",
    "    dataset.ts[min_id - context_window + 1:max_id+1],\n",
    "    max_length=context_window\n",
    ")\n",
    "\n",
    "test_idx = torch.where(dataset.test_mask)[0]\n",
    "min_id = val_idx.min()\n",
    "test_ds = TGSeq(\n",
    "    dataset.src[min_id - context_window + 1:],\n",
    "    dataset.dst[min_id - context_window + 1:],\n",
    "    dataset.ts[min_id - context_window + 1:],\n",
    "    max_length=context_window\n",
    ")\n",
    "print(len(train_ds), len(val_ds), len(test_ds))\n",
    "train_loader = DataLoader(train_ds, batch_size=128, num_workers=4, shuffle=True)\n",
    "val_loader = DataLoader(val_ds, batch_size=128, num_workers=4)\n",
    "test_loader = DataLoader(test_ds, batch_size=128, num_workers=4)"
   ]
  },
  {
   "cell_type": "code",
   "execution_count": 4,
   "id": "14480e97-9f65-43cd-833a-43b54463134a",
   "metadata": {},
   "outputs": [],
   "source": [
    "# b = next(iter(train_loader))\n",
    "# x, y, t = b\n",
    "# x.shape, y.shape, t.shape"
   ]
  },
  {
   "cell_type": "code",
   "execution_count": 5,
   "id": "83196abf-0130-49b7-ad6a-67b945ba59fd",
   "metadata": {},
   "outputs": [],
   "source": [
    "import src.modules\n",
    "reload(src.modules)\n",
    "import src.lm\n",
    "reload(src.lm)\n",
    "from src.lm import TGTransformer\n",
    "\n",
    "model = TGTransformer(\n",
    "    n_vocab=9226+2,\n",
    "    d_hidden=128,\n",
    "    d_mlp=512, \n",
    "    n_blocks = 8, \n",
    "    n_head = 8, \n",
    "    dropout=0.1\n",
    ")"
   ]
  },
  {
   "cell_type": "code",
   "execution_count": 6,
   "id": "2d55d671-ee0e-4408-ae84-5ed9ab95f02d",
   "metadata": {},
   "outputs": [
    {
     "data": {
      "text/plain": [
       "4477196"
      ]
     },
     "execution_count": 6,
     "metadata": {},
     "output_type": "execute_result"
    }
   ],
   "source": [
    "model.count_parameters()"
   ]
  },
  {
   "cell_type": "code",
   "execution_count": 7,
   "id": "7b8bebaa-3e43-4eec-ad78-d1c8aec48cda",
   "metadata": {},
   "outputs": [
    {
     "name": "stderr",
     "output_type": "stream",
     "text": [
      "GPU available: True (cuda), used: True\n",
      "TPU available: False, using: 0 TPU cores\n",
      "IPU available: False, using: 0 IPUs\n",
      "HPU available: False, using: 0 HPUs\n"
     ]
    }
   ],
   "source": [
    "project = 'tgbl-wiki-tglm'\n",
    "name = 'test'\n",
    "wandb_logger = WandbLogger(\n",
    "    project=project,\n",
    "    name=name,\n",
    "    save_dir='/home/mila/s/soroush.omranpour/scratch/wandb'\n",
    ")\n",
    "trainer = L.Trainer(\n",
    "    max_epochs=10,\n",
    "    devices=1,\n",
    "    accelerator=\"gpu\", \n",
    "    logger=wandb_logger,\n",
    "    accumulate_grad_batches=1,\n",
    "    gradient_clip_val=1.,\n",
    "    num_nodes=1\n",
    ")"
   ]
  },
  {
   "cell_type": "code",
   "execution_count": 8,
   "id": "7035bd88-dd41-4da4-bb92-9698bf7516a8",
   "metadata": {},
   "outputs": [
    {
     "name": "stderr",
     "output_type": "stream",
     "text": [
      "You are using a CUDA device ('NVIDIA A100-SXM4-80GB') that has Tensor Cores. To properly utilize them, you should set `torch.set_float32_matmul_precision('medium' | 'high')` which will trade-off precision for performance. For more details, read https://pytorch.org/docs/stable/generated/torch.set_float32_matmul_precision.html#torch.set_float32_matmul_precision\n",
      "\u001b[34m\u001b[1mwandb\u001b[0m: Currently logged in as: \u001b[33msoorism\u001b[0m to \u001b[32mhttps://api.wandb.ai\u001b[0m. Use \u001b[1m`wandb login --relogin`\u001b[0m to force relogin\n"
     ]
    },
    {
     "data": {
      "text/html": [
       "Tracking run with wandb version 0.19.10"
      ],
      "text/plain": [
       "<IPython.core.display.HTML object>"
      ]
     },
     "metadata": {},
     "output_type": "display_data"
    },
    {
     "data": {
      "text/html": [
       "Run data is saved locally in <code>/home/mila/s/soroush.omranpour/scratch/wandb/wandb/run-20250505_204333-ordosylf</code>"
      ],
      "text/plain": [
       "<IPython.core.display.HTML object>"
      ]
     },
     "metadata": {},
     "output_type": "display_data"
    },
    {
     "data": {
      "text/html": [
       "Syncing run <strong><a href='https://wandb.ai/soorism/tgbl-wiki-tglm/runs/ordosylf' target=\"_blank\">test</a></strong> to <a href='https://wandb.ai/soorism/tgbl-wiki-tglm' target=\"_blank\">Weights & Biases</a> (<a href='https://wandb.me/developer-guide' target=\"_blank\">docs</a>)<br>"
      ],
      "text/plain": [
       "<IPython.core.display.HTML object>"
      ]
     },
     "metadata": {},
     "output_type": "display_data"
    },
    {
     "data": {
      "text/html": [
       " View project at <a href='https://wandb.ai/soorism/tgbl-wiki-tglm' target=\"_blank\">https://wandb.ai/soorism/tgbl-wiki-tglm</a>"
      ],
      "text/plain": [
       "<IPython.core.display.HTML object>"
      ]
     },
     "metadata": {},
     "output_type": "display_data"
    },
    {
     "data": {
      "text/html": [
       " View run at <a href='https://wandb.ai/soorism/tgbl-wiki-tglm/runs/ordosylf' target=\"_blank\">https://wandb.ai/soorism/tgbl-wiki-tglm/runs/ordosylf</a>"
      ],
      "text/plain": [
       "<IPython.core.display.HTML object>"
      ]
     },
     "metadata": {},
     "output_type": "display_data"
    },
    {
     "name": "stderr",
     "output_type": "stream",
     "text": [
      "LOCAL_RANK: 0 - CUDA_VISIBLE_DEVICES: [0]\n",
      "\n",
      "  | Name           | Type             | Params\n",
      "----------------------------------------------------\n",
      "0 | node_embedding | Embedding        | 1.2 M \n",
      "1 | time_embedding | TimeEmbedding    | 64    \n",
      "2 | blocks         | ModuleList       | 2.1 M \n",
      "3 | head           | Sequential       | 1.2 M \n",
      "4 | criterion      | CrossEntropyLoss | 0     \n",
      "----------------------------------------------------\n",
      "4.5 M     Trainable params\n",
      "64        Non-trainable params\n",
      "4.5 M     Total params\n",
      "17.909    Total estimated model params size (MB)\n",
      "SLURM auto-requeueing enabled. Setting signal handlers.\n"
     ]
    },
    {
     "data": {
      "application/vnd.jupyter.widget-view+json": {
       "model_id": "",
       "version_major": 2,
       "version_minor": 0
      },
      "text/plain": [
       "Sanity Checking: |                                                                                            …"
      ]
     },
     "metadata": {},
     "output_type": "display_data"
    },
    {
     "data": {
      "application/vnd.jupyter.widget-view+json": {
       "model_id": "92231efe077445fca6bc773128c22ed3",
       "version_major": 2,
       "version_minor": 0
      },
      "text/plain": [
       "Training: |                                                                                                   …"
      ]
     },
     "metadata": {},
     "output_type": "display_data"
    },
    {
     "data": {
      "application/vnd.jupyter.widget-view+json": {
       "model_id": "",
       "version_major": 2,
       "version_minor": 0
      },
      "text/plain": [
       "Validation: |                                                                                                 …"
      ]
     },
     "metadata": {},
     "output_type": "display_data"
    },
    {
     "name": "stderr",
     "output_type": "stream",
     "text": [
      "/home/mila/s/soroush.omranpour/Projects/my_env/lib/python3.10/site-packages/lightning/pytorch/trainer/call.py:54: Detected KeyboardInterrupt, attempting graceful shutdown...\n"
     ]
    }
   ],
   "source": [
    "trainer.fit(model, train_loader, val_loader)"
   ]
  },
  {
   "cell_type": "code",
   "execution_count": 9,
   "id": "28dff55f-3b9f-471b-b9bb-7842e850915e",
   "metadata": {},
   "outputs": [
    {
     "name": "stderr",
     "output_type": "stream",
     "text": [
      "LOCAL_RANK: 0 - CUDA_VISIBLE_DEVICES: [0]\n",
      "SLURM auto-requeueing enabled. Setting signal handlers.\n"
     ]
    },
    {
     "data": {
      "application/vnd.jupyter.widget-view+json": {
       "model_id": "8eaed26eb92a4096828db74d3325cc7c",
       "version_major": 2,
       "version_minor": 0
      },
      "text/plain": [
       "Testing: |                                                                                                    …"
      ]
     },
     "metadata": {},
     "output_type": "display_data"
    },
    {
     "data": {
      "text/html": [
       "<pre style=\"white-space:pre;overflow-x:auto;line-height:normal;font-family:Menlo,'DejaVu Sans Mono',consolas,'Courier New',monospace\">┏━━━━━━━━━━━━━━━━━━━━━━━━━━━┳━━━━━━━━━━━━━━━━━━━━━━━━━━━┓\n",
       "┃<span style=\"font-weight: bold\">        Test metric        </span>┃<span style=\"font-weight: bold\">       DataLoader 0        </span>┃\n",
       "┡━━━━━━━━━━━━━━━━━━━━━━━━━━━╇━━━━━━━━━━━━━━━━━━━━━━━━━━━┩\n",
       "│<span style=\"color: #008080; text-decoration-color: #008080\">         test_loss         </span>│<span style=\"color: #800080; text-decoration-color: #800080\">     7.314603328704834     </span>│\n",
       "│<span style=\"color: #008080; text-decoration-color: #008080\">         test_mrr          </span>│<span style=\"color: #800080; text-decoration-color: #800080\">    0.4213508069515228     </span>│\n",
       "└───────────────────────────┴───────────────────────────┘\n",
       "</pre>\n"
      ],
      "text/plain": [
       "┏━━━━━━━━━━━━━━━━━━━━━━━━━━━┳━━━━━━━━━━━━━━━━━━━━━━━━━━━┓\n",
       "┃\u001b[1m \u001b[0m\u001b[1m       Test metric       \u001b[0m\u001b[1m \u001b[0m┃\u001b[1m \u001b[0m\u001b[1m      DataLoader 0       \u001b[0m\u001b[1m \u001b[0m┃\n",
       "┡━━━━━━━━━━━━━━━━━━━━━━━━━━━╇━━━━━━━━━━━━━━━━━━━━━━━━━━━┩\n",
       "│\u001b[36m \u001b[0m\u001b[36m        test_loss        \u001b[0m\u001b[36m \u001b[0m│\u001b[35m \u001b[0m\u001b[35m    7.314603328704834    \u001b[0m\u001b[35m \u001b[0m│\n",
       "│\u001b[36m \u001b[0m\u001b[36m        test_mrr         \u001b[0m\u001b[36m \u001b[0m│\u001b[35m \u001b[0m\u001b[35m   0.4213508069515228    \u001b[0m\u001b[35m \u001b[0m│\n",
       "└───────────────────────────┴───────────────────────────┘\n"
      ]
     },
     "metadata": {},
     "output_type": "display_data"
    },
    {
     "data": {
      "text/plain": [
       "[{'test_loss': 7.314603328704834, 'test_mrr': 0.4213508069515228}]"
      ]
     },
     "execution_count": 9,
     "metadata": {},
     "output_type": "execute_result"
    }
   ],
   "source": [
    "trainer.test(model, test_loader)"
   ]
  },
  {
   "cell_type": "code",
   "execution_count": null,
   "id": "d946d002-fcef-4fef-9caf-9aca371b974f",
   "metadata": {},
   "outputs": [],
   "source": []
  }
 ],
 "metadata": {
  "kernelspec": {
   "display_name": "Python 3 (ipykernel)",
   "language": "python",
   "name": "python3"
  },
  "language_info": {
   "codemirror_mode": {
    "name": "ipython",
    "version": 3
   },
   "file_extension": ".py",
   "mimetype": "text/x-python",
   "name": "python",
   "nbconvert_exporter": "python",
   "pygments_lexer": "ipython3",
   "version": "3.10.11"
  }
 },
 "nbformat": 4,
 "nbformat_minor": 5
}
